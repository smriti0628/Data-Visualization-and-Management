{
 "cells": [
  {
   "cell_type": "code",
   "execution_count": 1,
   "metadata": {},
   "outputs": [],
   "source": [
    "import numpy\n",
    "import pandas as pd\n",
    "import numpy as np\n",
    "from numpy import nan\n",
    "import statsmodels.formula.api as smf\n",
    "import statsmodels.stats.multicomp as multi\n",
    "import scipy\n",
    "from scipy.stats import pearsonr\n",
    "import seaborn as sns\n",
    "import matplotlib.pyplot as plt"
   ]
  },
  {
   "cell_type": "code",
   "execution_count": 2,
   "metadata": {},
   "outputs": [
    {
     "name": "stdout",
     "output_type": "stream",
     "text": [
      "                country incomeperperson alcconsumption armedforcesrate  \\\n",
      "0           Afghanistan                           0.03       0.5696534   \n",
      "1               Albania     1914.996551           7.29       1.0247361   \n",
      "2               Algeria     2231.993335           0.69        2.306817   \n",
      "3               Andorra      21943.3399          10.17                   \n",
      "4                Angola     1381.004268           5.57       1.4613288   \n",
      "..                  ...             ...            ...             ...   \n",
      "208             Vietnam     722.8075588           3.91       1.0853671   \n",
      "209  West Bank and Gaza                                      5.9360854   \n",
      "210         Yemen, Rep.     610.3573673            0.2       2.3162346   \n",
      "211              Zambia      432.226337           3.56       0.3413352   \n",
      "212            Zimbabwe     320.7718899           4.96       1.0327854   \n",
      "\n",
      "    breastcancerper100th co2emissions femaleemployrate hivrate  \\\n",
      "0                   26.8     75944000      25.60000038           \n",
      "1                   57.4  223747333.3      42.09999847           \n",
      "2                   23.5   2932108667      31.70000076     0.1   \n",
      "3                                                                \n",
      "4                   23.1    248358000      69.40000153       2   \n",
      "..                   ...          ...              ...     ...   \n",
      "208                 16.2   1425435000      67.59999847     0.4   \n",
      "209                       14241333.33      11.30000019           \n",
      "210                 35.1  234864666.7      20.29999924           \n",
      "211                   13  132025666.7             53.5    13.5   \n",
      "212                   19  590219666.7      58.09999847    14.3   \n",
      "\n",
      "    internetuserate lifeexpectancy oilperperson polityscore  \\\n",
      "0       3.654121623         48.673                        0   \n",
      "1       44.98994696         76.918                        9   \n",
      "2       12.50007331         73.131  0.420094525           2   \n",
      "3                81                                           \n",
      "4       9.999953883         51.093                       -2   \n",
      "..              ...            ...          ...         ...   \n",
      "208     27.85182156         75.181                       -7   \n",
      "209     36.42277179         72.832                            \n",
      "210     12.34975046         65.493                       -2   \n",
      "211     10.12498646         49.025                        7   \n",
      "212     11.50041532         51.384                        1   \n",
      "\n",
      "    relectricperperson suicideper100th   employrate urbanrate  \n",
      "0                            6.6843853  55.70000076     24.04  \n",
      "1          636.3413834     7.699329853  51.40000153     46.72  \n",
      "2          590.5098143     4.848769665         50.5     65.22  \n",
      "3                          5.362178802                  88.92  \n",
      "4          172.9992274     14.55467701  75.69999695      56.7  \n",
      "..                 ...             ...          ...       ...  \n",
      "208        302.7256547     11.65332222           71     27.84  \n",
      "209                                              32      71.9  \n",
      "210        130.0578314     6.265789032           39     30.64  \n",
      "211        168.6230305     12.01903629           61     35.42  \n",
      "212        297.8832004     13.90526676  66.80000305     37.34  \n",
      "\n",
      "[213 rows x 16 columns]\n",
      "213\n",
      "16\n",
      "213\n",
      "                country incomeperperson alcconsumption armedforcesrate  \\\n",
      "0           Afghanistan                           0.03       0.5696534   \n",
      "1               Albania     1914.996551           7.29       1.0247361   \n",
      "2               Algeria     2231.993335           0.69        2.306817   \n",
      "3               Andorra      21943.3399          10.17                   \n",
      "4                Angola     1381.004268           5.57       1.4613288   \n",
      "5   Antigua and Barbuda     11894.46407           8.17                   \n",
      "6             Argentina     10749.41924           9.35        0.560987   \n",
      "7               Armenia     1326.741757          13.66       2.6184384   \n",
      "8                 Aruba                                                  \n",
      "9             Australia     25249.98606          10.21       0.4862799   \n",
      "10              Austria     26692.98411           12.4       0.8155798   \n",
      "11           Azerbaijan     2344.896916          13.34       1.9767462   \n",
      "12              Bahamas     19630.54055           8.65       0.5452863   \n",
      "13              Bahrain     12505.21254           4.19       5.2311429   \n",
      "14           Bangladesh     558.0628766           0.17       0.2878915   \n",
      "15             Barbados     9243.587053           6.42       0.6639555   \n",
      "16              Belarus     2737.670379          18.85       3.7119299   \n",
      "17              Belgium     24496.04826          10.41       0.8156477   \n",
      "18               Belize     3545.652174           5.92       0.7583556   \n",
      "19                Benin     377.0396995           2.08       0.2233986   \n",
      "\n",
      "   breastcancerper100th co2emissions femaleemployrate hivrate internetuserate  \\\n",
      "0                  26.8     75944000      25.60000038             3.654121623   \n",
      "1                  57.4  223747333.3      42.09999847             44.98994696   \n",
      "2                  23.5   2932108667      31.70000076     0.1     12.50007331   \n",
      "3                                                                          81   \n",
      "4                  23.1    248358000      69.40000153       2     9.999953883   \n",
      "5                           16225000                              80.64545455   \n",
      "6                  73.9   5872119000      45.90000153     0.5     36.00033495   \n",
      "7                  51.6  51219666.67      34.20000076     0.1     44.00102458   \n",
      "8                           35871000                              41.80088889   \n",
      "9                  83.2  12970092667      54.59999847     0.1      75.8956538   \n",
      "10                 70.5   4466084333      49.70000076     0.3     72.73157554   \n",
      "11                 31.5  511107666.7      56.20000076     0.1     46.67970157   \n",
      "12                 54.4    137555000      60.70000076     3.1     42.98458017   \n",
      "13                 40.2  503994333.3      30.20000076             54.99280903   \n",
      "14                 16.6    598774000      53.59999847    0.06      3.70000326   \n",
      "15                 62.5  36160666.67      60.29999924     1.4     70.02859927   \n",
      "16                   36  999874333.3      48.59999847     0.3     32.05214391   \n",
      "17                   92  10897025333      41.70000076     0.2     73.73393447   \n",
      "18                 29.8     14058000      38.79999924     2.3     12.64573333   \n",
      "19                 28.1     37950000      58.20000076     1.2     3.129961803   \n",
      "\n",
      "   lifeexpectancy oilperperson polityscore relectricperperson suicideper100th  \\\n",
      "0          48.673                        0                          6.6843853   \n",
      "1          76.918                        9        636.3413834     7.699329853   \n",
      "2          73.131  0.420094525           2        590.5098143     4.848769665   \n",
      "3                                                                 5.362178802   \n",
      "4          51.093                       -2        172.9992274     14.55467701   \n",
      "5                                                                   2.1618433   \n",
      "6          75.901  0.635943801           8        768.4282997        7.765584   \n",
      "7          74.241                        5        603.7630576     3.741587877   \n",
      "8          75.246                                                               \n",
      "9          81.907  1.913026109          10        2825.391095     8.470030125   \n",
      "10         80.854  1.548790966          10        2068.123309        13.09437   \n",
      "11         70.739   0.35917261          -7        921.5621108     1.380964637   \n",
      "12          75.62                                                 3.374415874   \n",
      "13         75.057                       -7        7314.355637     4.414990425   \n",
      "14         68.944  0.032281466           5        68.11522858     14.53835678   \n",
      "15         76.835                                                 3.108602524   \n",
      "16         70.349   0.68782808          -7        614.9072872      26.8746903   \n",
      "17         80.009                        8        1920.962215        15.95385   \n",
      "18         76.072                                                 9.388795853   \n",
      "19         56.081                        7        38.22294336     6.057739735   \n",
      "\n",
      "     employrate urbanrate  \n",
      "0   55.70000076     24.04  \n",
      "1   51.40000153     46.72  \n",
      "2          50.5     65.22  \n",
      "3                   88.92  \n",
      "4   75.69999695      56.7  \n",
      "5                   30.46  \n",
      "6   58.40000153        92  \n",
      "7   40.09999847     63.86  \n",
      "8                   46.78  \n",
      "9          61.5     88.74  \n",
      "10  57.09999847     67.16  \n",
      "11  60.90000153     51.92  \n",
      "12  66.59999847      83.7  \n",
      "13  60.40000153     88.52  \n",
      "14  68.09999847     27.14  \n",
      "15  66.90000153     39.84  \n",
      "16  53.40000153     73.46  \n",
      "17  48.59999847     97.36  \n",
      "18  56.79999924      51.7  \n",
      "19  71.59999847      41.2  \n"
     ]
    }
   ],
   "source": [
    "df=pd.read_csv(r'C:\\Users\\smriti\\Downloads\\gapminder.csv')\n",
    "print(df)\n",
    "print(len(df))\n",
    "print(len(df.columns))\n",
    "print(len(df.index))\n",
    "print(df.head(20))"
   ]
  },
  {
   "cell_type": "code",
   "execution_count": 3,
   "metadata": {},
   "outputs": [
    {
     "name": "stdout",
     "output_type": "stream",
     "text": [
      "0     55.70000076\n",
      "1     51.40000153\n",
      "2            50.5\n",
      "3                \n",
      "4     75.69999695\n",
      "5                \n",
      "6     58.40000153\n",
      "7     40.09999847\n",
      "8                \n",
      "9            61.5\n",
      "10    57.09999847\n",
      "11    60.90000153\n",
      "12    66.59999847\n",
      "13    60.40000153\n",
      "14    68.09999847\n",
      "15    66.90000153\n",
      "16    53.40000153\n",
      "17    48.59999847\n",
      "18    56.79999924\n",
      "19    71.59999847\n",
      "Name: employrate, dtype: object\n",
      "NaN            196\n",
      "60.40000153      1\n",
      "61.5             1\n",
      "55.70000076      1\n",
      "57.09999847      1\n",
      "51.40000153      1\n",
      "56.79999924      1\n",
      "53.40000153      1\n",
      "58.40000153      1\n",
      "71.59999847      1\n",
      "50.5             1\n",
      "40.09999847      1\n",
      "60.90000153      1\n",
      "48.59999847      1\n",
      "75.69999695      1\n",
      "66.59999847      1\n",
      "66.90000153      1\n",
      "68.09999847      1\n",
      "Name: employrate, dtype: int64\n"
     ]
    }
   ],
   "source": [
    "print(df['employrate'].head(20))\n",
    "df['employrate']=df['employrate'].head(20).replace(' ',numpy.nan)\n",
    "\n",
    "a1=df['employrate'].value_counts(sort=False,dropna=False)\n",
    "print(a1)"
   ]
  },
  {
   "cell_type": "code",
   "execution_count": 4,
   "metadata": {},
   "outputs": [
    {
     "name": "stdout",
     "output_type": "stream",
     "text": [
      "0     25.60000038\n",
      "1     42.09999847\n",
      "2     31.70000076\n",
      "3                \n",
      "4     69.40000153\n",
      "5                \n",
      "6     45.90000153\n",
      "7     34.20000076\n",
      "8                \n",
      "9     54.59999847\n",
      "10    49.70000076\n",
      "11    56.20000076\n",
      "12    60.70000076\n",
      "13    30.20000076\n",
      "14    53.59999847\n",
      "15    60.29999924\n",
      "16    48.59999847\n",
      "17    41.70000076\n",
      "18    38.79999924\n",
      "19    58.20000076\n",
      "Name: femaleemployrate, dtype: object\n",
      "NaN            196\n",
      "38.79999924      1\n",
      "25.60000038      1\n",
      "53.59999847      1\n",
      "45.90000153      1\n",
      "41.70000076      1\n",
      "42.09999847      1\n",
      "60.29999924      1\n",
      "60.70000076      1\n",
      "30.20000076      1\n",
      "69.40000153      1\n",
      "49.70000076      1\n",
      "54.59999847      1\n",
      "58.20000076      1\n",
      "56.20000076      1\n",
      "31.70000076      1\n",
      "48.59999847      1\n",
      "34.20000076      1\n",
      "Name: femaleemployrate, dtype: int64\n"
     ]
    }
   ],
   "source": [
    "print(df['femaleemployrate'].head(20))\n",
    "df['femaleemployrate']=df['femaleemployrate'].head(20).replace(' ',numpy.nan)\n",
    "\n",
    "a2=df['femaleemployrate'].value_counts(sort=False,dropna=False)\n",
    "print(a2)"
   ]
  },
  {
   "cell_type": "code",
   "execution_count": 5,
   "metadata": {},
   "outputs": [
    {
     "name": "stdout",
     "output_type": "stream",
     "text": [
      "0                \n",
      "1     1914.996551\n",
      "2     2231.993335\n",
      "3      21943.3399\n",
      "4     1381.004268\n",
      "5     11894.46407\n",
      "6     10749.41924\n",
      "7     1326.741757\n",
      "8                \n",
      "9     25249.98606\n",
      "10    26692.98411\n",
      "11    2344.896916\n",
      "12    19630.54055\n",
      "13    12505.21254\n",
      "14    558.0628766\n",
      "15    9243.587053\n",
      "16    2737.670379\n",
      "17    24496.04826\n",
      "18    3545.652174\n",
      "19    377.0396995\n",
      "Name: incomeperperson, dtype: object\n",
      "NaN            195\n",
      "10749.41924      1\n",
      "26692.98411      1\n",
      "9243.587053      1\n",
      "3545.652174      1\n",
      "1326.741757      1\n",
      "1381.004268      1\n",
      "21943.3399       1\n",
      "2737.670379      1\n",
      "24496.04826      1\n",
      "558.0628766      1\n",
      "11894.46407      1\n",
      "1914.996551      1\n",
      "12505.21254      1\n",
      "2231.993335      1\n",
      "2344.896916      1\n",
      "25249.98606      1\n",
      "19630.54055      1\n",
      "377.0396995      1\n",
      "Name: incomeperperson, dtype: int64\n"
     ]
    }
   ],
   "source": [
    "print(df['incomeperperson'].head(20))\n",
    "df['incomeperperson']=df['incomeperperson'].head(20).replace(' ',numpy.nan)\n",
    "\n",
    "a3=df['incomeperperson'].value_counts(sort=False,dropna=False)\n",
    "print(a3)"
   ]
  },
  {
   "cell_type": "code",
   "execution_count": 6,
   "metadata": {},
   "outputs": [],
   "source": [
    "def check_missing_values(df,cols):\n",
    "     for col in cols:\n",
    "         print(\"Column {} is missing:\".format(col))\n",
    "         print((df[col].values==' ').sum())\n",
    "         print()"
   ]
  },
  {
   "cell_type": "code",
   "execution_count": 7,
   "metadata": {},
   "outputs": [
    {
     "name": "stdout",
     "output_type": "stream",
     "text": [
      "Null values:\n",
      "False\n"
     ]
    }
   ],
   "source": [
    "def convert_numeric(df1,cols):\n",
    "    \n",
    "    for col in cols:\n",
    "        df1[col]=pd.to_numeric(df1[col],errors='coerce')\n",
    "\n",
    "df=pd.read_csv(r'C:\\Users\\smriti\\Downloads\\gapminder.csv')  \n",
    "print(\"Null values:\")\n",
    "print(df.isnull().values.any())"
   ]
  },
  {
   "cell_type": "code",
   "execution_count": 8,
   "metadata": {},
   "outputs": [
    {
     "name": "stdout",
     "output_type": "stream",
     "text": [
      "Column lifeexpectancy is missing:\n",
      "22\n",
      "\n",
      "Column breastcancerper100th is missing:\n",
      "40\n",
      "\n",
      "Column suicideper100th is missing:\n",
      "22\n",
      "\n",
      "Column employrate is missing:\n",
      "35\n",
      "\n",
      "Column femaleemployrate is missing:\n",
      "35\n",
      "\n",
      "Column incomeperperson is missing:\n",
      "23\n",
      "\n"
     ]
    }
   ],
   "source": [
    "cols=['lifeexpectancy','breastcancerper100th','suicideper100th']\n",
    "norm_cols=['employrate','femaleemployrate','incomeperperson']\n",
    "\n",
    "df2=df.copy()\n",
    "\n",
    "check_missing_values(df, cols)\n",
    "check_missing_values(df, norm_cols)\n",
    "\n",
    "convert_numeric(df2, cols)\n",
    "convert_numeric(df2, norm_cols)"
   ]
  },
  {
   "cell_type": "code",
   "execution_count": 9,
   "metadata": {},
   "outputs": [],
   "source": [
    "def bin(df1,cols):\n",
    "     for col in cols:\n",
    "         new_col_name=\"{}_bins\".format(col)\n",
    "         df1[new_col_name]=pd.qcut(df1[col],10,labels=['1=10%',\"2-20%\",\"3=30%\",\"4=40%\",\"5=50%\",\"6=60%\",\"7=70%\",\"8=80%\",\"9=90%\",\"10=100%\"])\n",
    "         \n",
    "df3=df2.copy()"
   ]
  },
  {
   "cell_type": "code",
   "execution_count": 10,
   "metadata": {},
   "outputs": [
    {
     "name": "stdout",
     "output_type": "stream",
     "text": [
      "                            OLS Regression Results                            \n",
      "==============================================================================\n",
      "Dep. Variable:        incomeperperson   R-squared:                       0.136\n",
      "Model:                            OLS   Adj. R-squared:                  0.087\n",
      "Method:                 Least Squares   F-statistic:                     2.737\n",
      "Date:                Sat, 04 Jul 2020   Prob (F-statistic):            0.00541\n",
      "Time:                        13:02:18   Log-Likelihood:                -1764.8\n",
      "No. Observations:                 166   AIC:                             3550.\n",
      "Df Residuals:                     156   BIC:                             3581.\n",
      "Df Model:                           9                                         \n",
      "Covariance Type:            nonrobust                                         \n",
      "=======================================================================================================\n",
      "                                          coef    std err          t      P>|t|      [0.025      0.975]\n",
      "-------------------------------------------------------------------------------------------------------\n",
      "Intercept                            3660.2676   2583.548      1.417      0.159   -1442.982    8763.518\n",
      "C(femaleemployrate_bins)[T.2-20%]    1261.5345   3550.747      0.355      0.723   -5752.212    8275.281\n",
      "C(femaleemployrate_bins)[T.3=30%]    3960.5156   3714.084      1.066      0.288   -3375.869    1.13e+04\n",
      "C(femaleemployrate_bins)[T.4=40%]    1867.7604   3714.084      0.503      0.616   -5468.624    9204.144\n",
      "C(femaleemployrate_bins)[T.5=50%]    9389.6390   3653.689      2.570      0.011    2172.554    1.66e+04\n",
      "C(femaleemployrate_bins)[T.6=60%]    2072.5226   3550.747      0.584      0.560   -4941.224    9086.269\n",
      "C(femaleemployrate_bins)[T.7=70%]    7970.1075   3653.689      2.181      0.031     753.022    1.52e+04\n",
      "C(femaleemployrate_bins)[T.8=80%]    1.125e+04   3599.557      3.125      0.002    4137.706    1.84e+04\n",
      "C(femaleemployrate_bins)[T.9=90%]    3553.8123   3599.557      0.987      0.325   -3556.347    1.07e+04\n",
      "C(femaleemployrate_bins)[T.10=100%] -1226.2167   3550.747     -0.345      0.730   -8239.963    5787.530\n",
      "==============================================================================\n",
      "Omnibus:                       45.371   Durbin-Watson:                   1.810\n",
      "Prob(Omnibus):                  0.000   Jarque-Bera (JB):               77.492\n",
      "Skew:                           1.372   Prob(JB):                     1.49e-17\n",
      "Kurtosis:                       4.918   Cond. No.                         11.1\n",
      "==============================================================================\n",
      "\n",
      "Warnings:\n",
      "[1] Standard Errors assume that the covariance matrix of the errors is correctly specified.\n"
     ]
    }
   ],
   "source": [
    "# This creates new columns filled with the binned column data\n",
    "\n",
    "bin(df3,cols)\n",
    "bin(df3,norm_cols)\n",
    "\n",
    "anova_df = df3[['incomeperperson', 'femaleemployrate_bins', 'employrate_bins']].dropna()\n",
    "\n",
    "relate_df = df3[['incomeperperson', 'femaleemployrate_bins']]\n",
    "\n",
    "anova = smf.ols(formula='incomeperperson ~ C(femaleemployrate_bins)', data=anova_df).fit()\n",
    "\n",
    "print(anova.summary())"
   ]
  },
  {
   "cell_type": "code",
   "execution_count": 11,
   "metadata": {},
   "outputs": [
    {
     "name": "stdout",
     "output_type": "stream",
     "text": [
      "                       incomeperperson\n",
      "femaleemployrate_bins                 \n",
      "1=10%                      3660.267597\n",
      "2-20%                      4921.802120\n",
      "3=30%                      7620.783174\n",
      "4=40%                      5528.027964\n",
      "5=50%                     13049.906615\n",
      "6=60%                      5732.790223\n",
      "7=70%                     11630.375108\n",
      "8=80%                     14908.132995\n",
      "9=90%                      7214.079848\n",
      "10=100%                    2434.050869\n",
      "                       incomeperperson\n",
      "femaleemployrate_bins                 \n",
      "1=10%                      3399.507431\n",
      "2-20%                      5749.979711\n",
      "3=30%                      9107.811927\n",
      "4=40%                      6351.651046\n",
      "5=50%                     15375.571447\n",
      "6=60%                      7348.898137\n",
      "7=70%                     13557.557168\n",
      "8=80%                     15483.860973\n",
      "9=90%                     11415.036386\n",
      "10=100%                    7882.834624\n"
     ]
    }
   ],
   "source": [
    "# We may also want to check the mean and standard deviation for the groups\n",
    "\n",
    "mean = relate_df.groupby(\"femaleemployrate_bins\").mean()\n",
    "sd = relate_df.groupby(\"femaleemployrate_bins\").std()\n",
    "print(mean)\n",
    "print(sd)"
   ]
  },
  {
   "cell_type": "code",
   "execution_count": 12,
   "metadata": {},
   "outputs": [],
   "source": [
    "def half_bin(df1, cols):\n",
    "\n",
    "    for col in cols:\n",
    "        new_col_name = \"{}_bins_2\".format(col)\n",
    "        df1[new_col_name] = pd.qcut(df1[col], 2, labels=[\"1=50%\", \"2=100%\"])\n",
    "\n",
    "half_bin(df3, ['femaleemployrate'])"
   ]
  },
  {
   "cell_type": "code",
   "execution_count": 13,
   "metadata": {},
   "outputs": [],
   "source": [
    "# Recoding scheme\n",
    "\n",
    "recode_2 = {\"3=30%\": \"3=30%\", \"7=70%\": \"7=70%\"}\n",
    "recode_3 = {\"2=20%\": \"2=20%\", \"8=80\": \"8=80\"}\n",
    "recode_4 = {\"6=60%\": \"6=60%\", \"9=90%\": \"9=90%\"}\n",
    "recode_5 = {\"4=40%\": \"4=40%\", \"7=70%\": \"7=70%\"}"
   ]
  },
  {
   "cell_type": "code",
   "execution_count": 14,
   "metadata": {},
   "outputs": [],
   "source": [
    "# Create the new features\n",
    "df3['Comp_3v7'] = df3['incomeperperson_bins'].map(recode_2)\n",
    "df3['Comp_2v8'] = df3['incomeperperson_bins'].map(recode_3)\n",
    "df3['Comp_6v9'] = df3['incomeperperson_bins'].map(recode_4)\n",
    "df3['Comp_4v7'] = df3['incomeperperson_bins'].map(recode_5)"
   ]
  },
  {
   "cell_type": "code",
   "execution_count": 15,
   "metadata": {},
   "outputs": [
    {
     "name": "stdout",
     "output_type": "stream",
     "text": [
      "incomeperperson_bins     1=10%  2-20%  3=30%  4=40%  5=50%  6=60%  7=70%  \\\n",
      "femaleemployrate_bins_2                                                    \n",
      "1=50%                        2      3      9     10     11     12     11   \n",
      "2=100%                      17     16      8      5      4      7      3   \n",
      "\n",
      "incomeperperson_bins     8=80%  9=90%  10=100%  \n",
      "femaleemployrate_bins_2                         \n",
      "1=50%                       11      8        3  \n",
      "2=100%                       5      9       12  \n"
     ]
    }
   ],
   "source": [
    "count_table = pd.crosstab(df3['femaleemployrate_bins_2'], df3['incomeperperson_bins'])\n",
    "print(count_table.head(10))"
   ]
  },
  {
   "cell_type": "code",
   "execution_count": 17,
   "metadata": {},
   "outputs": [
    {
     "name": "stdout",
     "output_type": "stream",
     "text": [
      "Assoc. - female employee rate and income per person\n",
      "(0.021121311194267543, 0.7902847605862906)\n",
      "Assoc. - between employment rate and income per person\n",
      "(-0.008526427248756399, 0.9145135443378481)\n"
     ]
    }
   ],
   "source": [
    "print('Assoc. - female employee rate and income per person')\n",
    "print(pearsonr(df_clean['femaleemployrate'], df_clean['incomeperperson']))\n",
    "\n",
    "print('Assoc. - between employment rate and income per person')\n",
    "print(pearsonr(df_clean['employrate'], df_clean['incomeperperson']))"
   ]
  },
  {
   "cell_type": "code",
   "execution_count": 18,
   "metadata": {},
   "outputs": [],
   "source": [
    "def income_groups(row):\n",
    "    if row['incomeperperson'] <= 744.23:\n",
    "        return 1\n",
    "    elif row['incomeperperson'] <= 942.32:\n",
    "        return 2\n",
    "    else:\n",
    "        return 3"
   ]
  },
  {
   "cell_type": "code",
   "execution_count": 21,
   "metadata": {},
   "outputs": [],
   "source": [
    "# Create a few subframes to try test for moderation\n",
    "\n",
    "subframe_1 = df_clean[(df_clean['income_group'] == 1)]\n",
    "subframe_2 = df_clean[(df_clean['income_group'] == 2)]\n",
    "subframe_3 = df_clean[(df_clean['income_group'] == 3)]"
   ]
  },
  {
   "cell_type": "code",
   "execution_count": 25,
   "metadata": {},
   "outputs": [
    {
     "name": "stdout",
     "output_type": "stream",
     "text": [
      "Assoc. -employee rate and female employee rate for low income countries\n",
      "(0.9295021527952501, 1.1160563249533423e-20)\n"
     ]
    }
   ],
   "source": [
    "print('Assoc. -employee rate and female employee rate for low income countries')\n",
    "\n",
    "print(pearsonr(subframe_1['employrate'], subframe_1['femaleemployrate']))"
   ]
  },
  {
   "cell_type": "code",
   "execution_count": 23,
   "metadata": {},
   "outputs": [
    {
     "name": "stdout",
     "output_type": "stream",
     "text": [
      "Assoc. - employee rate and female employee rate for medium income countries\n",
      "(0.7628727173433518, 0.44757656638718524)\n"
     ]
    }
   ],
   "source": [
    "print('Assoc. - employee rate and female employee rate for medium income countries')\n",
    "\n",
    "print(pearsonr(subframe_2['employrate'], subframe_2['femaleemployrate']))"
   ]
  },
  {
   "cell_type": "code",
   "execution_count": 24,
   "metadata": {},
   "outputs": [
    {
     "name": "stdout",
     "output_type": "stream",
     "text": [
      "Assoc. - employee rate and female employee rate for high income countries\n",
      "(0.7664357771213115, 7.011767293090408e-23)\n"
     ]
    }
   ],
   "source": [
    "print('Assoc. - employee rate and female employee rate for high income countries')\n",
    "\n",
    "print(pearsonr(subframe_3['employrate'], subframe_3['femaleemployrate']))"
   ]
  },
  {
   "cell_type": "code",
   "execution_count": 26,
   "metadata": {},
   "outputs": [],
   "source": [
    "df['incomeperperson']=df['incomeperperson'].apply(pd.to_numeric, errors='coerce')\n",
    "df['employrate']=df['employrate'].apply(pd.to_numeric, errors='coerce') \n",
    "df['femaleemployrate']=df['femaleemployrate'].apply(pd.to_numeric, errors='coerce') \n",
    "\n",
    "sub1=df[(df['incomeperperson']>0)&(df['employrate']>0)&(df['femaleemployrate']>0)]\n",
    "\n",
    "sub2=sub1.copy()"
   ]
  },
  {
   "cell_type": "code",
   "execution_count": 27,
   "metadata": {},
   "outputs": [
    {
     "name": "stdout",
     "output_type": "stream",
     "text": [
      "1          Albania\n",
      "2          Algeria\n",
      "4           Angola\n",
      "6        Argentina\n",
      "7          Armenia\n",
      "          ...     \n",
      "207      Venezuela\n",
      "208        Vietnam\n",
      "210    Yemen, Rep.\n",
      "211         Zambia\n",
      "212       Zimbabwe\n",
      "Name: country, Length: 166, dtype: object 1       1914.996551\n",
      "2       2231.993335\n",
      "4       1381.004268\n",
      "6      10749.419240\n",
      "7       1326.741757\n",
      "           ...     \n",
      "207     5528.363114\n",
      "208      722.807559\n",
      "210      610.357367\n",
      "211      432.226337\n",
      "212      320.771890\n",
      "Name: incomeperperson, Length: 166, dtype: float64 1      51.400002\n",
      "2      50.500000\n",
      "4      75.699997\n",
      "6      58.400002\n",
      "7      40.099998\n",
      "         ...    \n",
      "207    59.900002\n",
      "208    71.000000\n",
      "210    39.000000\n",
      "211    61.000000\n",
      "212    66.800003\n",
      "Name: employrate, Length: 166, dtype: float64 1      42.099998\n",
      "2      31.700001\n",
      "4      69.400002\n",
      "6      45.900002\n",
      "7      34.200001\n",
      "         ...    \n",
      "207    45.799999\n",
      "208    67.599998\n",
      "210    20.299999\n",
      "211    53.500000\n",
      "212    58.099998\n",
      "Name: femaleemployrate, Length: 166, dtype: float64\n"
     ]
    }
   ],
   "source": [
    "p1=sub2['country']\n",
    "p2=sub2['incomeperperson']\n",
    "p3=sub2['employrate']\n",
    "p4=sub2['femaleemployrate']\n",
    "print(p1,p2,p3,p4)"
   ]
  },
  {
   "cell_type": "code",
   "execution_count": 28,
   "metadata": {},
   "outputs": [
    {
     "data": {
      "text/plain": [
       "Text(0.5, 1.0, 'Income per person in different countries')"
      ]
     },
     "execution_count": 28,
     "metadata": {},
     "output_type": "execute_result"
    },
    {
     "data": {
      "image/png": "[encoded data removed]",
      "text/plain": [
       "<Figure size 432x288 with 1 Axes>"
      ]
     },
     "metadata": {
      "needs_background": "light"
     },
     "output_type": "display_data"
    }
   ],
   "source": [
    "sns.distplot(sub2['incomeperperson'].dropna(),kde=False)\n",
    "plt.title('Income per person in different countries')"
   ]
  },
  {
   "cell_type": "code",
   "execution_count": 29,
   "metadata": {},
   "outputs": [
    {
     "data": {
      "text/plain": [
       "Text(0.5, 1.0, 'Employment rates in different countries')"
      ]
     },
     "execution_count": 29,
     "metadata": {},
     "output_type": "execute_result"
    },
    {
     "data": {
      "image/png": "[encoded data removed]",
      "text/plain": [
       "<Figure size 432x288 with 1 Axes>"
      ]
     },
     "metadata": {
      "needs_background": "light"
     },
     "output_type": "display_data"
    }
   ],
   "source": [
    "sns.distplot(sub2['employrate'].dropna(),kde=False)\n",
    "plt.title('Employment rates in different countries')"
   ]
  },
  {
   "cell_type": "code",
   "execution_count": 30,
   "metadata": {},
   "outputs": [
    {
     "name": "stdout",
     "output_type": "stream",
     "text": [
      "Describe the data for employment rates\n",
      "count    166.000000\n",
      "mean      58.987952\n",
      "std       10.327332\n",
      "min       34.900002\n",
      "25%       51.575001\n",
      "50%       58.850000\n",
      "75%       64.975000\n",
      "max       83.199997\n",
      "Name: employrate, dtype: float64\n"
     ]
    }
   ],
   "source": [
    "print('Describe the data for employment rates')\n",
    "desc1=sub2['employrate'].describe()\n",
    "print(desc1)"
   ]
  },
  {
   "cell_type": "code",
   "execution_count": 31,
   "metadata": {},
   "outputs": [
    {
     "data": {
      "text/plain": [
       "Text(0.5, 1.0, 'Female Employment rates in different countries')"
      ]
     },
     "execution_count": 31,
     "metadata": {},
     "output_type": "execute_result"
    },
    {
     "data": {
      "image/png": "[encoded data removed]",
      "text/plain": [
       "<Figure size 432x288 with 1 Axes>"
      ]
     },
     "metadata": {
      "needs_background": "light"
     },
     "output_type": "display_data"
    }
   ],
   "source": [
    "sns.distplot(sub2['femaleemployrate'].dropna(),kde=False)\n",
    "plt.title('Female Employment rates in different countries')"
   ]
  },
  {
   "cell_type": "code",
   "execution_count": 32,
   "metadata": {},
   "outputs": [
    {
     "name": "stdout",
     "output_type": "stream",
     "text": [
      "Describe the data for Female employment rates\n",
      "count    166.000000\n",
      "mean      47.963855\n",
      "std       14.618138\n",
      "min       12.400000\n",
      "25%       39.250001\n",
      "50%       48.450001\n",
      "75%       56.150001\n",
      "max       83.300003\n",
      "Name: femaleemployrate, dtype: float64\n"
     ]
    }
   ],
   "source": [
    "print('Describe the data for Female employment rates')\n",
    "desc2=sub2['femaleemployrate'].describe()\n",
    "print(desc2)"
   ]
  },
  {
   "cell_type": "code",
   "execution_count": 33,
   "metadata": {},
   "outputs": [
    {
     "data": {
      "image/png": "[encoded data removed]",
      "text/plain": [
       "<Figure size 432x288 with 1 Axes>"
      ]
     },
     "metadata": {
      "needs_background": "light"
     },
     "output_type": "display_data"
    }
   ],
   "source": [
    "sns.regplot(x='employrate',y='femaleemployrate',fit_reg=True,data=df)\n",
    "plt.title(\"Scatterplot for the Association between Employment rate and Female Employment rate\")\n",
    "plt.show()"
   ]
  },
  {
   "cell_type": "code",
   "execution_count": 34,
   "metadata": {},
   "outputs": [
    {
     "data": {
      "image/png": "[encoded data removed]",
      "text/plain": [
       "<Figure size 432x288 with 1 Axes>"
      ]
     },
     "metadata": {
      "needs_background": "light"
     },
     "output_type": "display_data"
    }
   ],
   "source": [
    "sns.regplot(x='employrate',y='femaleemployrate',fit_reg=False,data=df)\n",
    "plt.title(\"Scatterplot for the Association between Employment rate and Female Employment rate\")\n",
    "plt.show()"
   ]
  },
  {
   "cell_type": "code",
   "execution_count": 39,
   "metadata": {},
   "outputs": [
    {
     "data": {
      "image/png": "[encoded data removed]",
      "text/plain": [
       "<Figure size 432x288 with 1 Axes>"
      ]
     },
     "metadata": {
      "needs_background": "light"
     },
     "output_type": "display_data"
    }
   ],
   "source": [
    "sns1=sns.regplot(x='incomeperperson',y='employrate',fit_reg=False,data=df)\n",
    "plt.title(\"Scatterplot for the Association between Income per person and Employment rate\")\n",
    "plt.show()"
   ]
  },
  {
   "cell_type": "code",
   "execution_count": 40,
   "metadata": {},
   "outputs": [
    {
     "data": {
      "image/png": "[encoded data removed]",
      "text/plain": [
       "<Figure size 432x288 with 1 Axes>"
      ]
     },
     "metadata": {
      "needs_background": "light"
     },
     "output_type": "display_data"
    }
   ],
   "source": [
    "sns2=sns.regplot(x='incomeperperson',y='femaleemployrate',fit_reg=False,data=df)\n",
    "plt.title(\"Scatterplot for the Association between Income per person and Female Employment rate\")\n",
    "plt.show()"
   ]
  },
  {
   "cell_type": "code",
   "execution_count": null,
   "metadata": {},
   "outputs": [],
   "source": []
  }
 ],
 "metadata": {
  "kernelspec": {
   "display_name": "Python 3",
   "language": "python",
   "name": "python3"
  },
  "language_info": {
   "codemirror_mode": {
    "name": "ipython",
    "version": 3
   },
   "file_extension": ".py",
   "mimetype": "text/x-python",
   "name": "python",
   "nbconvert_exporter": "python",
   "pygments_lexer": "ipython3",
   "version": "3.7.6"
  }
 },
 "nbformat": 4,
 "nbformat_minor": 4
}
